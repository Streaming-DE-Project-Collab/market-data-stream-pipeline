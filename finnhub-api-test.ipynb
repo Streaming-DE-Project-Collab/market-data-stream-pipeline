{
 "cells": [
  {
   "cell_type": "code",
   "execution_count": 25,
   "id": "59bcc6ed",
   "metadata": {},
   "outputs": [],
   "source": [
    "import finnhub\n",
    "finnhub_client = finnhub.Client(api_key=\"cm6i739r01qg94pu3u6gcm6i739r01qg94pu3u70\")\n",
    "\n",
    "#https://finnhub.io/docs/api/"
   ]
  },
  {
   "cell_type": "code",
   "execution_count": 45,
   "id": "dea57ccb",
   "metadata": {},
   "outputs": [
    {
     "name": "stdout",
     "output_type": "stream",
     "text": [
      "{'c': 193.15, 'd': 0.1, 'dp': 0.0518, 'h': 193.5, 'l': 191.0905, 'o': 192.49, 'pc': 193.05, 't': 1703710802}\n"
     ]
    }
   ],
   "source": [
    "print(finnhub_client.quote('AAPL'))\n",
    "'''\n",
    "c\n",
    "Current price\n",
    "\n",
    "d\n",
    "Change\n",
    "\n",
    "dp\n",
    "Percent change\n",
    "\n",
    "h\n",
    "High price of the day\n",
    "\n",
    "l\n",
    "Low price of the day\n",
    "\n",
    "o\n",
    "Open price of the day\n",
    "\n",
    "pc\n",
    "Previous close price\n",
    "'''"
   ]
  },
  {
   "cell_type": "code",
   "execution_count": 26,
   "id": "9be4a673",
   "metadata": {},
   "outputs": [
    {
     "name": "stderr",
     "output_type": "stream",
     "text": [
      "--- request header ---\n",
      "GET /?token=cm6i739r01qg94pu3u6gcm6i739r01qg94pu3u70 HTTP/1.1\n",
      "Upgrade: websocket\n",
      "Host: ws.finnhub.io\n",
      "Origin: http://ws.finnhub.io\n",
      "Sec-WebSocket-Key: u9JMh02Id4A9SoONxW2h3A==\n",
      "Sec-WebSocket-Version: 13\n",
      "Connection: Upgrade\n",
      "\n",
      "\n",
      "-----------------------\n",
      "--- response header ---\n",
      "HTTP/1.1 101 Switching Protocols\n",
      "Date: Thu, 28 Dec 2023 08:01:04 GMT\n",
      "Connection: upgrade\n",
      "Upgrade: websocket\n",
      "Sec-WebSocket-Accept: lKdNL0Bu9KUNfL2IS+iDjUmXiKs=\n",
      "CF-Cache-Status: DYNAMIC\n",
      "Report-To: {\"endpoints\":[{\"url\":\"https:\\/\\/a.nel.cloudflare.com\\/report\\/v3?s=7JYboEnsVZLiZI9zFj2IVuJah%2FQqzBvqlbXlrg4MlmwtqbxkLJWFP%2ByWRUQQb%2FBVAV%2FfbxQAELoEDpTBKVXzCbydNBB2ar6CQ1HEQV8368CAEdmfNCTPPo035Rtw915H\"}],\"group\":\"cf-nel\",\"max_age\":604800}\n",
      "NEL: {\"success_fraction\":0,\"report_to\":\"cf-nel\",\"max_age\":604800}\n",
      "Server: cloudflare\n",
      "CF-RAY: 83c845f4b8f767d0-SJC\n",
      "alt-svc: h3=\":443\"; ma=86400\n",
      "-----------------------\n",
      "send: b'\\x81\\xa4D\\xb62\\x04?\\x94F}4\\xd3\\x10>f\\xc5Gf7\\xd5@m&\\xd3\\x10(f\\xc5Ki&\\xd9^&~\\x94sE\\x14\\xfa\\x10y'\n",
      "send: b'\\x81\\xa4\\xc3W\\xc3\\x1a\\xb8u\\xb7c\\xb32\\xe1 \\xe1$\\xb6x\\xb04\\xb1s\\xa12\\xe16\\xe1$\\xbaw\\xa18\\xaf8\\xf9u\\x82W\\x99\\x19\\xe1g'\n",
      "send: b'\\x81\\xaf\\xbd.\\x07\\xd4\\xc6\\x0cs\\xad\\xcdK%\\xee\\x9f]r\\xb6\\xceMu\\xbd\\xdfK%\\xf8\\x9f]~\\xb9\\xdfAk\\xf6\\x87\\x0cE\\x9d\\xf3oI\\x97\\xf8\\x14E\\x80\\xfe{T\\x90\\xe9\\x0cz'\n",
      "send: b'\\x81\\xacu\\xfa\\x01S\\x0e\\xd8u*\\x05\\x9f#iW\\x89t1\\x06\\x99s:\\x17\\x9f#\\x7fW\\x89x>\\x17\\x95mqO\\xd8H\\x10U\\xb7@\\x01>\\xbfU\\x00O\\xcb#.'\n"
     ]
    },
    {
     "name": "stdout",
     "output_type": "stream",
     "text": [
      "{\"data\":[{\"c\":null,\"p\":1.11174,\"s\":\"IC MARKETS:1\",\"t\":1703750463897,\"v\":0},{\"c\":null,\"p\":1.11181,\"s\":\"IC MARKETS:1\",\"t\":1703750464129,\"v\":0}],\"type\":\"trade\"}\n",
      "{\"data\":[{\"c\":null,\"p\":43054,\"s\":\"BINANCE:BTCUSDT\",\"t\":1703750466035,\"v\":0.002},{\"c\":null,\"p\":43053.99,\"s\":\"BINANCE:BTCUSDT\",\"t\":1703750466323,\"v\":0.1936},{\"c\":null,\"p\":43053.99,\"s\":\"BINANCE:BTCUSDT\",\"t\":1703750466323,\"v\":0.00991},{\"c\":null,\"p\":43053.99,\"s\":\"BINANCE:BTCUSDT\",\"t\":1703750466323,\"v\":0.00671},{\"c\":null,\"p\":43053.99,\"s\":\"BINANCE:BTCUSDT\",\"t\":1703750466323,\"v\":0.04494},{\"c\":null,\"p\":43053.99,\"s\":\"BINANCE:BTCUSDT\",\"t\":1703750466389,\"v\":0.20896},{\"c\":null,\"p\":43053.99,\"s\":\"BINANCE:BTCUSDT\",\"t\":1703750466389,\"v\":0.00034},{\"c\":null,\"p\":43053.99,\"s\":\"BINANCE:BTCUSDT\",\"t\":1703750466389,\"v\":0.00187},{\"c\":null,\"p\":43053.99,\"s\":\"BINANCE:BTCUSDT\",\"t\":1703750466389,\"v\":0.21729},{\"c\":null,\"p\":43053.99,\"s\":\"BINANCE:BTCUSDT\",\"t\":1703750466389,\"v\":0.00048}],\"type\":\"trade\"}\n",
      "{\"data\":[{\"c\":null,\"p\":43053.99,\"s\":\"BINANCE:BTCUSDT\",\"t\":1703750466389,\"v\":0.00048},{\"c\":null,\"p\":43053.99,\"s\":\"BINANCE:BTCUSDT\",\"t\":1703750466389,\"v\":0.00048},{\"c\":null,\"p\":43053.99,\"s\":\"BINANCE:BTCUSDT\",\"t\":1703750466389,\"v\":0.00049},{\"c\":null,\"p\":43053.99,\"s\":\"BINANCE:BTCUSDT\",\"t\":1703750466389,\"v\":0.24231},{\"c\":null,\"p\":1.11184,\"s\":\"IC MARKETS:1\",\"t\":1703750464962,\"v\":0}],\"type\":\"trade\"}\n",
      "{\"data\":[{\"c\":null,\"p\":43054,\"s\":\"BINANCE:BTCUSDT\",\"t\":1703750466895,\"v\":0.00126},{\"c\":null,\"p\":43054,\"s\":\"BINANCE:BTCUSDT\",\"t\":1703750467093,\"v\":0.02323},{\"c\":null,\"p\":43053.99,\"s\":\"BINANCE:BTCUSDT\",\"t\":1703750467392,\"v\":0.00349},{\"c\":null,\"p\":1.111835,\"s\":\"IC MARKETS:1\",\"t\":1703750465937,\"v\":0},{\"c\":null,\"p\":1.111825,\"s\":\"IC MARKETS:1\",\"t\":1703750466326,\"v\":0}],\"type\":\"trade\"}\n",
      "{\"data\":[{\"c\":null,\"p\":1.11181,\"s\":\"IC MARKETS:1\",\"t\":1703750466739,\"v\":0},{\"c\":null,\"p\":43053.99,\"s\":\"BINANCE:BTCUSDT\",\"t\":1703750468376,\"v\":0.00014}],\"type\":\"trade\"}\n",
      "{\"data\":[{\"c\":null,\"p\":43053.99,\"s\":\"BINANCE:BTCUSDT\",\"t\":1703750468646,\"v\":0.00019}],\"type\":\"trade\"}\n",
      "{\"data\":[{\"c\":null,\"p\":43054,\"s\":\"BINANCE:BTCUSDT\",\"t\":1703750468957,\"v\":0.0002},{\"c\":null,\"p\":43054,\"s\":\"BINANCE:BTCUSDT\",\"t\":1703750468957,\"v\":0.00224},{\"c\":null,\"p\":43054,\"s\":\"BINANCE:BTCUSDT\",\"t\":1703750469041,\"v\":0.02622},{\"c\":null,\"p\":43054,\"s\":\"BINANCE:BTCUSDT\",\"t\":1703750469041,\"v\":0.00899},{\"c\":null,\"p\":43054,\"s\":\"BINANCE:BTCUSDT\",\"t\":1703750469041,\"v\":0.05},{\"c\":null,\"p\":43054,\"s\":\"BINANCE:BTCUSDT\",\"t\":1703750469104,\"v\":0.00106},{\"c\":null,\"p\":43053.99,\"s\":\"BINANCE:BTCUSDT\",\"t\":1703750469106,\"v\":0.00232},{\"c\":null,\"p\":43053.99,\"s\":\"BINANCE:BTCUSDT\",\"t\":1703750469575,\"v\":0.00044},{\"c\":null,\"p\":1.111825,\"s\":\"IC MARKETS:1\",\"t\":1703750468154,\"v\":0},{\"c\":null,\"p\":43054,\"s\":\"BINANCE:BTCUSDT\",\"t\":1703750469652,\"v\":0.00743}],\"type\":\"trade\"}\n",
      "{\"data\":[{\"c\":null,\"p\":43053.99,\"s\":\"BINANCE:BTCUSDT\",\"t\":1703750469660,\"v\":0.00918},{\"c\":null,\"p\":43054,\"s\":\"BINANCE:BTCUSDT\",\"t\":1703750469662,\"v\":0.01554},{\"c\":null,\"p\":43053.99,\"s\":\"BINANCE:BTCUSDT\",\"t\":1703750469684,\"v\":0.03443},{\"c\":null,\"p\":43054,\"s\":\"BINANCE:BTCUSDT\",\"t\":1703750469701,\"v\":0.00463}],\"type\":\"trade\"}\n",
      "{\"data\":[{\"c\":null,\"p\":43053.99,\"s\":\"BINANCE:BTCUSDT\",\"t\":1703750469914,\"v\":0.00029},{\"c\":null,\"p\":43053.99,\"s\":\"BINANCE:BTCUSDT\",\"t\":1703750469980,\"v\":0.04048},{\"c\":null,\"p\":43054,\"s\":\"BINANCE:BTCUSDT\",\"t\":1703750470218,\"v\":0.00021},{\"c\":null,\"p\":43053.99,\"s\":\"BINANCE:BTCUSDT\",\"t\":1703750470302,\"v\":0.09088},{\"c\":null,\"p\":43053.99,\"s\":\"BINANCE:BTCUSDT\",\"t\":1703750470302,\"v\":0.28},{\"c\":null,\"p\":43053.99,\"s\":\"BINANCE:BTCUSDT\",\"t\":1703750470302,\"v\":0.00034},{\"c\":null,\"p\":43053.99,\"s\":\"BINANCE:BTCUSDT\",\"t\":1703750470302,\"v\":0.11965},{\"c\":null,\"p\":43053.99,\"s\":\"BINANCE:BTCUSDT\",\"t\":1703750470302,\"v\":0.2},{\"c\":null,\"p\":43053.99,\"s\":\"BINANCE:BTCUSDT\",\"t\":1703750470302,\"v\":0.02393},{\"c\":null,\"p\":43053.99,\"s\":\"BINANCE:BTCUSDT\",\"t\":1703750470302,\"v\":0.19541}],\"type\":\"trade\"}\n",
      "{\"data\":[{\"c\":null,\"p\":43053.99,\"s\":\"BINANCE:BTCUSDT\",\"t\":1703750470302,\"v\":0.02393},{\"c\":null,\"p\":43053.99,\"s\":\"BINANCE:BTCUSDT\",\"t\":1703750470302,\"v\":0.11965},{\"c\":null,\"p\":43053.99,\"s\":\"BINANCE:BTCUSDT\",\"t\":1703750470302,\"v\":0.58077},{\"c\":null,\"p\":43053.99,\"s\":\"BINANCE:BTCUSDT\",\"t\":1703750470302,\"v\":0.78048},{\"c\":null,\"p\":43053.99,\"s\":\"BINANCE:BTCUSDT\",\"t\":1703750470302,\"v\":0.69793},{\"c\":null,\"p\":43053.99,\"s\":\"BINANCE:BTCUSDT\",\"t\":1703750470302,\"v\":0.08},{\"c\":null,\"p\":43053.99,\"s\":\"BINANCE:BTCUSDT\",\"t\":1703750470302,\"v\":0.00049},{\"c\":null,\"p\":43053.99,\"s\":\"BINANCE:BTCUSDT\",\"t\":1703750470302,\"v\":0.00048},{\"c\":null,\"p\":43053.99,\"s\":\"BINANCE:BTCUSDT\",\"t\":1703750470302,\"v\":0.00049},{\"c\":null,\"p\":43053.99,\"s\":\"BINANCE:BTCUSDT\",\"t\":1703750470302,\"v\":0.00049}],\"type\":\"trade\"}\n",
      "{\"data\":[{\"c\":null,\"p\":43053.99,\"s\":\"BINANCE:BTCUSDT\",\"t\":1703750470302,\"v\":0.00693},{\"c\":null,\"p\":43053.99,\"s\":\"BINANCE:BTCUSDT\",\"t\":1703750470302,\"v\":0.20896},{\"c\":null,\"p\":43053.99,\"s\":\"BINANCE:BTCUSDT\",\"t\":1703750470302,\"v\":0.20896},{\"c\":null,\"p\":43053.99,\"s\":\"BINANCE:BTCUSDT\",\"t\":1703750470302,\"v\":0.23226},{\"c\":null,\"p\":43053.99,\"s\":\"BINANCE:BTCUSDT\",\"t\":1703750470302,\"v\":0.34418},{\"c\":null,\"p\":43053.99,\"s\":\"BINANCE:BTCUSDT\",\"t\":1703750470302,\"v\":0.0232},{\"c\":null,\"p\":43053.99,\"s\":\"BINANCE:BTCUSDT\",\"t\":1703750470302,\"v\":0.66548},{\"c\":null,\"p\":43053.99,\"s\":\"BINANCE:BTCUSDT\",\"t\":1703750470302,\"v\":0.23226},{\"c\":null,\"p\":43053.99,\"s\":\"BINANCE:BTCUSDT\",\"t\":1703750470302,\"v\":0.10988},{\"c\":null,\"p\":1.11184,\"s\":\"IC MARKETS:1\",\"t\":1703750469328,\"v\":0}],\"type\":\"trade\"}\n",
      "{\"data\":[{\"c\":null,\"p\":43053.99,\"s\":\"BINANCE:BTCUSDT\",\"t\":1703750471260,\"v\":0.00015},{\"c\":null,\"p\":1.11185,\"s\":\"IC MARKETS:1\",\"t\":1703750470192,\"v\":0},{\"c\":null,\"p\":43053.99,\"s\":\"BINANCE:BTCUSDT\",\"t\":1703750471761,\"v\":0.00032}],\"type\":\"trade\"}\n",
      "{\"data\":[{\"c\":null,\"p\":43053.99,\"s\":\"BINANCE:BTCUSDT\",\"t\":1703750472367,\"v\":0.01147},{\"c\":null,\"p\":43053.99,\"s\":\"BINANCE:BTCUSDT\",\"t\":1703750472607,\"v\":0.00262}],\"type\":\"trade\"}\n",
      "{\"data\":[{\"c\":null,\"p\":43053.99,\"s\":\"BINANCE:BTCUSDT\",\"t\":1703750473259,\"v\":0.02269}],\"type\":\"trade\"}\n",
      "{\"data\":[{\"c\":null,\"p\":43053.99,\"s\":\"BINANCE:BTCUSDT\",\"t\":1703750473999,\"v\":0.00348},{\"c\":null,\"p\":43053.99,\"s\":\"BINANCE:BTCUSDT\",\"t\":1703750474564,\"v\":0.01791},{\"c\":null,\"p\":43054,\"s\":\"BINANCE:BTCUSDT\",\"t\":1703750474585,\"v\":0.00051},{\"c\":null,\"p\":43054,\"s\":\"BINANCE:BTCUSDT\",\"t\":1703750474623,\"v\":0.00364},{\"c\":null,\"p\":1.111845,\"s\":\"IC MARKETS:1\",\"t\":1703750473808,\"v\":0},{\"c\":null,\"p\":43053.99,\"s\":\"BINANCE:BTCUSDT\",\"t\":1703750474687,\"v\":0.03696},{\"c\":null,\"p\":43053.99,\"s\":\"BINANCE:BTCUSDT\",\"t\":1703750474687,\"v\":0.04423},{\"c\":null,\"p\":43054,\"s\":\"BINANCE:BTCUSDT\",\"t\":1703750474737,\"v\":0.00013},{\"c\":null,\"p\":43054,\"s\":\"BINANCE:BTCUSDT\",\"t\":1703750474925,\"v\":0.00561}],\"type\":\"trade\"}\n",
      "{\"data\":[{\"c\":null,\"p\":43053.99,\"s\":\"BINANCE:BTCUSDT\",\"t\":1703750475068,\"v\":0.01958},{\"c\":null,\"p\":43053.99,\"s\":\"BINANCE:BTCUSDT\",\"t\":1703750475068,\"v\":0.11965},{\"c\":null,\"p\":43053.99,\"s\":\"BINANCE:BTCUSDT\",\"t\":1703750475068,\"v\":0.11965},{\"c\":null,\"p\":43053.99,\"s\":\"BINANCE:BTCUSDT\",\"t\":1703750475068,\"v\":0.0232},{\"c\":null,\"p\":43053.99,\"s\":\"BINANCE:BTCUSDT\",\"t\":1703750475068,\"v\":0.28},{\"c\":null,\"p\":43053.99,\"s\":\"BINANCE:BTCUSDT\",\"t\":1703750475068,\"v\":0.00049},{\"c\":null,\"p\":43053.99,\"s\":\"BINANCE:BTCUSDT\",\"t\":1703750475068,\"v\":0.00049},{\"c\":null,\"p\":43053.99,\"s\":\"BINANCE:BTCUSDT\",\"t\":1703750475068,\"v\":0.00049},{\"c\":null,\"p\":43053.99,\"s\":\"BINANCE:BTCUSDT\",\"t\":1703750475068,\"v\":0.37545},{\"c\":null,\"p\":43054,\"s\":\"BINANCE:BTCUSDT\",\"t\":1703750475608,\"v\":0.00012}],\"type\":\"trade\"}\n",
      "{\"data\":[{\"c\":null,\"p\":43053.99,\"s\":\"BINANCE:BTCUSDT\",\"t\":1703750475699,\"v\":0.07326},{\"c\":null,\"p\":43053.99,\"s\":\"BINANCE:BTCUSDT\",\"t\":1703750475699,\"v\":0.00884}],\"type\":\"trade\"}\n",
      "{\"data\":[{\"c\":null,\"p\":43053.99,\"s\":\"BINANCE:BTCUSDT\",\"t\":1703750476489,\"v\":0.0007},{\"c\":null,\"p\":43053.99,\"s\":\"BINANCE:BTCUSDT\",\"t\":1703750476490,\"v\":0.00506},{\"c\":null,\"p\":43053.99,\"s\":\"BINANCE:BTCUSDT\",\"t\":1703750476503,\"v\":0.00117},{\"c\":null,\"p\":43054,\"s\":\"BINANCE:BTCUSDT\",\"t\":1703750476518,\"v\":0.00393},{\"c\":null,\"p\":43053.99,\"s\":\"BINANCE:BTCUSDT\",\"t\":1703750476590,\"v\":0.00412},{\"c\":null,\"p\":43053.99,\"s\":\"BINANCE:BTCUSDT\",\"t\":1703750476728,\"v\":0.05861},{\"c\":null,\"p\":43054,\"s\":\"BINANCE:BTCUSDT\",\"t\":1703750476846,\"v\":0.00161},{\"c\":null,\"p\":43053.99,\"s\":\"BINANCE:BTCUSDT\",\"t\":1703750476960,\"v\":0.00065},{\"c\":null,\"p\":43053.99,\"s\":\"BINANCE:BTCUSDT\",\"t\":1703750476977,\"v\":0.00092}],\"type\":\"trade\"}\n"
     ]
    },
    {
     "name": "stderr",
     "output_type": "stream",
     "text": [
      "send: b'\\x88\\x82\\x04tp\\xd3\\x07\\x9c'\n"
     ]
    },
    {
     "name": "stdout",
     "output_type": "stream",
     "text": [
      "\n",
      "### closed ###\n"
     ]
    }
   ],
   "source": [
    "import websocket\n",
    "\n",
    "def on_message(ws, message):\n",
    "    print(message)\n",
    "\n",
    "def on_error(ws, error):\n",
    "    print(error)\n",
    "\n",
    "def on_close(ws):\n",
    "    print(\"### closed ###\")\n",
    "\n",
    "def on_open(ws):\n",
    "    ws.send('{\"type\":\"subscribe\",\"symbol\":\"AAPL\"}')\n",
    "    ws.send('{\"type\":\"subscribe\",\"symbol\":\"AMZN\"}')\n",
    "    ws.send('{\"type\":\"subscribe\",\"symbol\":\"BINANCE:BTCUSDT\"}')\n",
    "    ws.send('{\"type\":\"subscribe\",\"symbol\":\"IC MARKETS:1\"}')\n",
    "\n",
    "if __name__ == \"__main__\":\n",
    "    websocket.enableTrace(True)\n",
    "    ws = websocket.WebSocketApp(\"wss://ws.finnhub.io?token=cm6i739r01qg94pu3u6gcm6i739r01qg94pu3u70\",\n",
    "                              on_message = on_message,\n",
    "                              on_error = on_error,\n",
    "                              on_close = on_close)\n",
    "    ws.on_open = on_open\n",
    "    ws.run_forever()"
   ]
  },
  {
   "cell_type": "code",
   "execution_count": 30,
   "id": "53b3cb18",
   "metadata": {},
   "outputs": [],
   "source": [
    "aapl_fin = finnhub_client.company_basic_financials('AAPL', 'all')"
   ]
  },
  {
   "cell_type": "code",
   "execution_count": 31,
   "id": "e6eda7b6",
   "metadata": {},
   "outputs": [
    {
     "name": "stdout",
     "output_type": "stream",
     "text": [
      "dict_keys(['metric', 'metricType', 'series', 'symbol'])\n"
     ]
    }
   ],
   "source": [
    "print(aapl_fin.keys())"
   ]
  },
  {
   "cell_type": "code",
   "execution_count": 33,
   "id": "757b76c1",
   "metadata": {},
   "outputs": [
    {
     "name": "stdout",
     "output_type": "stream",
     "text": [
      "dict_keys(['10DayAverageTradingVolume', '13WeekPriceReturnDaily', '26WeekPriceReturnDaily', '3MonthADReturnStd', '3MonthAverageTradingVolume', '52WeekHigh', '52WeekHighDate', '52WeekLow', '52WeekLowDate', '52WeekPriceReturnDaily', '5DayPriceReturnDaily', 'assetTurnoverAnnual', 'assetTurnoverTTM', 'beta', 'bookValuePerShareAnnual', 'bookValuePerShareQuarterly', 'bookValueShareGrowth5Y', 'capexCagr5Y', 'cashFlowPerShareAnnual', 'cashFlowPerShareQuarterly', 'cashFlowPerShareTTM', 'cashPerSharePerShareAnnual', 'cashPerSharePerShareQuarterly', 'currentDividendYieldTTM', 'currentEv/freeCashFlowAnnual', 'currentEv/freeCashFlowTTM', 'currentRatioAnnual', 'currentRatioQuarterly', 'dividendGrowthRate5Y', 'dividendPerShareAnnual', 'dividendPerShareTTM', 'dividendYieldIndicatedAnnual', 'ebitdPerShareAnnual', 'ebitdPerShareTTM', 'ebitdaCagr5Y', 'ebitdaInterimCagr5Y', 'enterpriseValue', 'epsAnnual', 'epsBasicExclExtraItemsAnnual', 'epsBasicExclExtraItemsTTM', 'epsExclExtraItemsAnnual', 'epsExclExtraItemsTTM', 'epsGrowth3Y', 'epsGrowth5Y', 'epsGrowthQuarterlyYoy', 'epsGrowthTTMYoy', 'epsInclExtraItemsAnnual', 'epsInclExtraItemsTTM', 'epsNormalizedAnnual', 'epsTTM', 'focfCagr5Y', 'grossMargin5Y', 'grossMarginAnnual', 'grossMarginTTM', 'inventoryTurnoverAnnual', 'inventoryTurnoverTTM', 'longTermDebt/equityAnnual', 'longTermDebt/equityQuarterly', 'marketCapitalization', 'monthToDatePriceReturnDaily', 'netIncomeEmployeeAnnual', 'netIncomeEmployeeTTM', 'netInterestCoverageAnnual', 'netInterestCoverageTTM', 'netMarginGrowth5Y', 'netProfitMargin5Y', 'netProfitMarginAnnual', 'netProfitMarginTTM', 'operatingMargin5Y', 'operatingMarginAnnual', 'operatingMarginTTM', 'payoutRatioAnnual', 'payoutRatioTTM', 'pbAnnual', 'pbQuarterly', 'pcfShareAnnual', 'pcfShareTTM', 'peAnnual', 'peBasicExclExtraTTM', 'peExclExtraAnnual', 'peExclExtraTTM', 'peInclExtraTTM', 'peNormalizedAnnual', 'peTTM', 'pfcfShareAnnual', 'pfcfShareTTM', 'pretaxMargin5Y', 'pretaxMarginAnnual', 'pretaxMarginTTM', 'priceRelativeToS&P50013Week', 'priceRelativeToS&P50026Week', 'priceRelativeToS&P5004Week', 'priceRelativeToS&P50052Week', 'priceRelativeToS&P500Ytd', 'psAnnual', 'psTTM', 'ptbvAnnual', 'ptbvQuarterly', 'quickRatioAnnual', 'quickRatioQuarterly', 'receivablesTurnoverAnnual', 'receivablesTurnoverTTM', 'revenueEmployeeAnnual', 'revenueEmployeeTTM', 'revenueGrowth3Y', 'revenueGrowth5Y', 'revenueGrowthQuarterlyYoy', 'revenueGrowthTTMYoy', 'revenuePerShareAnnual', 'revenuePerShareTTM', 'revenueShareGrowth5Y', 'roa5Y', 'roaRfy', 'roaTTM', 'roe5Y', 'roeRfy', 'roeTTM', 'roi5Y', 'roiAnnual', 'roiTTM', 'tangibleBookValuePerShareAnnual', 'tangibleBookValuePerShareQuarterly', 'tbvCagr5Y', 'totalDebt/totalEquityAnnual', 'totalDebt/totalEquityQuarterly', 'yearToDatePriceReturnDaily'])\n"
     ]
    }
   ],
   "source": [
    "print(aapl_fin['metric'].keys())"
   ]
  },
  {
   "cell_type": "code",
   "execution_count": 41,
   "id": "8ebdc018",
   "metadata": {},
   "outputs": [
    {
     "name": "stdout",
     "output_type": "stream",
     "text": [
      "dict_keys(['annual', 'quarterly'])\n"
     ]
    }
   ],
   "source": [
    "print(aapl_fin['series'].keys())"
   ]
  },
  {
   "cell_type": "code",
   "execution_count": 42,
   "id": "9c3e15d4",
   "metadata": {},
   "outputs": [
    {
     "name": "stdout",
     "output_type": "stream",
     "text": [
      "dict_keys(['assetTurnoverTTM', 'bookValue', 'cashRatio', 'currentRatio', 'ebitPerShare', 'eps', 'ev', 'fcfMargin', 'fcfPerShareTTM', 'grossMargin', 'inventoryTurnoverTTM', 'longtermDebtTotalAsset', 'longtermDebtTotalCapital', 'longtermDebtTotalEquity', 'netDebtToTotalCapital', 'netDebtToTotalEquity', 'netMargin', 'operatingMargin', 'payoutRatioTTM', 'pb', 'peTTM', 'pfcfTTM', 'pretaxMargin', 'psTTM', 'ptbv', 'quickRatio', 'receivablesTurnoverTTM', 'roaTTM', 'roeTTM', 'roicTTM', 'rotcTTM', 'salesPerShare', 'sgaToSale', 'tangibleBookValue', 'totalDebtToEquity', 'totalDebtToTotalAsset', 'totalDebtToTotalCapital', 'totalRatio'])\n"
     ]
    }
   ],
   "source": [
    "print(aapl_fin['series']['quarterly'].keys())"
   ]
  },
  {
   "cell_type": "code",
   "execution_count": 44,
   "id": "cc627646",
   "metadata": {},
   "outputs": [
    {
     "name": "stdout",
     "output_type": "stream",
     "text": [
      "AAPL\n"
     ]
    }
   ],
   "source": [
    "print(aapl_fin['symbol'])"
   ]
  },
  {
   "cell_type": "code",
   "execution_count": null,
   "id": "15e9c547",
   "metadata": {},
   "outputs": [],
   "source": []
  }
 ],
 "metadata": {
  "kernelspec": {
   "display_name": "Python 3 (ipykernel)",
   "language": "python",
   "name": "python3"
  },
  "language_info": {
   "codemirror_mode": {
    "name": "ipython",
    "version": 3
   },
   "file_extension": ".py",
   "mimetype": "text/x-python",
   "name": "python",
   "nbconvert_exporter": "python",
   "pygments_lexer": "ipython3",
   "version": "3.11.5"
  }
 },
 "nbformat": 4,
 "nbformat_minor": 5
}
